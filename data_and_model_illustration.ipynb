{
 "cells": [
  {
   "cell_type": "code",
   "execution_count": 7,
   "id": "f300cc01",
   "metadata": {},
   "outputs": [],
   "source": [
    "import numpy as np\n",
    "import tensorflow as tf\n",
    "from tensorflow import keras\n",
    "import matplotlib.pyplot as plt\n",
    "from data.common import FEATURE_DESC, get_label_name_by_id\n",
    "%matplotlib inline"
   ]
  },
  {
   "cell_type": "markdown",
   "id": "8226b52b",
   "metadata": {},
   "source": [
    "# dataset parse and visualization\n",
    "read record file and parse to the meaning items:\n",
    "* if feature type is image then use `tf.image.decode_png` to decode\n",
    "* if feature type is label，then case to int32 label id\n",
    "\n",
    "the feature type defined in `common.py`\n",
    "### read and parse the dataset"
   ]
  },
  {
   "cell_type": "code",
   "execution_count": 10,
   "id": "ac71b9cb",
   "metadata": {},
   "outputs": [],
   "source": [
    "raw_dataset = tf.data.TFRecordDataset(['quick-draw-train.record'])\n",
    "def parse_record(record):\n",
    "    example = tf.io.parse_single_example(record, FEATURE_DESC)\n",
    "    image_tensor = tf.image.decode_png(example['image/encoded'])\n",
    "    image = tf.reshape(image_tensor, [256, 256])\n",
    "    label = tf.cast(example['image/class/label'], tf.int32)\n",
    "    return image, label\n",
    "\n",
    "dataset = raw_dataset.map(parse_record, tf.data.AUTOTUNE)"
   ]
  },
  {
   "cell_type": "markdown",
   "id": "e57a3801",
   "metadata": {},
   "source": [
    "The number of examples in dataset:"
   ]
  },
  {
   "cell_type": "code",
   "execution_count": 11,
   "id": "8dceefbb",
   "metadata": {},
   "outputs": [
    {
     "name": "stderr",
     "output_type": "stream",
     "text": [
      "2021-10-06 20:30:35.000928: I tensorflow/compiler/mlir/mlir_graph_optimization_pass.cc:116] None of the MLIR optimization passes are enabled (registered 2)\n",
      "2021-10-06 20:30:35.028819: I tensorflow/core/platform/profile_utils/cpu_utils.cc:112] CPU Frequency: 2699905000 Hz\n"
     ]
    },
    {
     "data": {
      "text/plain": [
       "68068"
      ]
     },
     "execution_count": 11,
     "metadata": {},
     "output_type": "execute_result"
    }
   ],
   "source": [
    "sum(1 for _ in dataset)"
   ]
  },
  {
   "cell_type": "markdown",
   "id": "b4729ba5",
   "metadata": {},
   "source": [
    "### visualize the dataset\n",
    "lookup one example, change the skip param to visualize different item"
   ]
  },
  {
   "cell_type": "code",
   "execution_count": 12,
   "id": "3f8ce1ab",
   "metadata": {},
   "outputs": [
    {
     "data": {
      "image/png": "[encoded data removed]",
      "text/plain": [
       "<Figure size 432x288 with 1 Axes>"
      ]
     },
     "metadata": {
      "needs_background": "light"
     },
     "output_type": "display_data"
    }
   ],
   "source": [
    "one_dataset = dataset.skip(10000).take(1)\n",
    "for img, label_id in one_dataset:\n",
    "    plt.title(get_label_name_by_id(label_id))\n",
    "    plt.imshow(img)"
   ]
  },
  {
   "cell_type": "markdown",
   "id": "4a4954c4",
   "metadata": {},
   "source": [
    "# Do predict using the trainned keras model\n",
    "Load the latest checkpoints model and predict the image bellow\n",
    "### predicted image"
   ]
  },
  {
   "cell_type": "code",
   "execution_count": 14,
   "id": "012924e5",
   "metadata": {},
   "outputs": [
    {
     "data": {
      "text/plain": [
       "<matplotlib.image.AxesImage at 0x7f06e22d0d90>"
      ]
     },
     "execution_count": 14,
     "metadata": {},
     "output_type": "execute_result"
    },
    {
     "data": {
      "image/png": "[encoded data removed]",
      "text/plain": [
       "<Figure size 432x288 with 1 Axes>"
      ]
     },
     "metadata": {
      "needs_background": "light"
     },
     "output_type": "display_data"
    }
   ],
   "source": [
    "img = plt.imread('./res/airplane.png')\n",
    "plt.imshow(img)"
   ]
  },
  {
   "cell_type": "markdown",
   "id": "14fec54b",
   "metadata": {},
   "source": [
    "### load model and do predict"
   ]
  },
  {
   "cell_type": "code",
   "execution_count": 16,
   "id": "034f992d",
   "metadata": {},
   "outputs": [],
   "source": [
    "model = keras.models.load_model('./ckpt/ckpt-loss=1.42')\n",
    "input_img = img.reshape(1, 256, 256, 1).astype(np.float32)\n",
    "result = model.predict(input_img)"
   ]
  },
  {
   "cell_type": "markdown",
   "id": "0329f4e6",
   "metadata": {},
   "source": [
    "### print the result"
   ]
  },
  {
   "cell_type": "code",
   "execution_count": 17,
   "id": "cd8c8fc1",
   "metadata": {},
   "outputs": [
    {
     "name": "stdout",
     "output_type": "stream",
     "text": [
      "class: light bulb(38) conf: 0.6292840242385864\n"
     ]
    }
   ],
   "source": [
    "idx = np.argmax(result[0])\n",
    "print(\"class: {}({}) conf: {}\".format(get_label_name_by_id(idx), idx, result[0][idx]))"
   ]
  }
 ],
 "metadata": {
  "kernelspec": {
   "display_name": "Python 3 (ipykernel)",
   "language": "python",
   "name": "python3"
  },
  "language_info": {
   "codemirror_mode": {
    "name": "ipython",
    "version": 3
   },
   "file_extension": ".py",
   "mimetype": "text/x-python",
   "name": "python",
   "nbconvert_exporter": "python",
   "pygments_lexer": "ipython3",
   "version": "3.8.10"
  }
 },
 "nbformat": 4,
 "nbformat_minor": 5
}
